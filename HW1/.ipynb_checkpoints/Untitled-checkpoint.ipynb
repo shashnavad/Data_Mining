{
 "cells": [
  {
   "cell_type": "code",
   "execution_count": null,
   "id": "16c5c71e-0946-42bc-ad73-cd5f58b51e3a",
   "metadata": {},
   "outputs": [],
   "source": []
  }
 ],
 "metadata": {
  "kernelspec": {
   "display_name": "Python 3 (ipykernel)",
   "language": "python",
   "name": "python3"
  },
  "language_info": {
   "codemirror_mode": {
    "name": "ipython",
    "version": 3
   },
   "file_extension": ".py",
   "mimetype": "text/x-python",
   "name": "python",
   "nbconvert_exporter": "python",
   "pygments_lexer": "ipython3",
   "version": "3.11.10"
  }
 },
 "nbformat": 4,
 "nbformat_minor": 5
}
